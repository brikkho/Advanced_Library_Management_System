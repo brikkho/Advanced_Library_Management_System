{
  "nbformat": 4,
  "nbformat_minor": 0,
  "metadata": {
    "colab": {
      "provenance": [],
      "authorship_tag": "ABX9TyNkgofrCj8OY5+xNdxZNv87",
      "include_colab_link": true
    },
    "kernelspec": {
      "name": "python3",
      "display_name": "Python 3"
    },
    "language_info": {
      "name": "python"
    }
  },
  "cells": [
    {
      "cell_type": "markdown",
      "metadata": {
        "id": "view-in-github",
        "colab_type": "text"
      },
      "source": [
        "<a href=\"https://colab.research.google.com/github/brikkho/Advanced_Library_Management_System/blob/main/RegressionModelsOnHousingDataset.ipynb\" target=\"_parent\"><img src=\"https://colab.research.google.com/assets/colab-badge.svg\" alt=\"Open In Colab\"/></a>"
      ]
    },
    {
      "cell_type": "code",
      "execution_count": null,
      "metadata": {
        "colab": {
          "base_uri": "https://localhost:8080/"
        },
        "id": "wtTMOIqotgUK",
        "outputId": "5eccfdc0-ad7e-46ea-a2aa-210859ed2a9f"
      },
      "outputs": [
        {
          "output_type": "stream",
          "name": "stdout",
          "text": [
            "MSE scores of different regressions on Test Data Set:\n",
            "=======================================================\n",
            "\n",
            "MSE score of Linear Regression: 24.291119474973478\n",
            "MSE score of Ridge Regression: 24.477191227708644\n",
            "MSE score of Lasso Regression: 25.155593753934173\n",
            "--------------------------------------------------------------------------------------\n",
            "\n",
            "\n",
            "RMSE scores of different regressions on Test Data Set:\n",
            "=======================================================\n",
            "\n",
            "RMSE score of Linear Regression: 4.928602182665332\n",
            "RMSE score of Ridge Regression: 4.94744289787246\n",
            "RMSE score of Lasso Regression: 5.015535241022056\n",
            "--------------------------------------------------------------------------------------\n",
            "\n",
            "\n",
            "R2 scores of different regressions on Test Data Set:\n",
            "=======================================================\n",
            "\n",
            "R2 score of Linear Regression: 0.6687594935356326\n",
            "R2 score of Ridge Regression: 0.6662221670168523\n",
            "R2 score of Lasso Regression: 0.6569712802223936\n",
            "--------------------------------------------------------------------------------------\n",
            "\n",
            "\n",
            "MAE scores of different regressions on Test Data Set:\n",
            "=======================================================\n",
            "\n",
            "MAE score of Linear Regression: 3.189091965887837\n",
            "MAE score of Ridge Regression: 3.1329474278055343\n",
            "MAE score of Lasso Regression: 3.1452398674037196\n",
            "--------------------------------------------------------------------------------------\n",
            "\n",
            "\n"
          ]
        }
      ],
      "source": [
        "#1. LOAD DATA SET\n",
        "\n",
        "import numpy as np\n",
        "import pandas as pd\n",
        "\n",
        "data_url = \"https://raw.githubusercontent.com/jbrownlee/Datasets/master/housing.data\"\n",
        "columns_names = ['CRIM', 'ZN', 'INDUS', 'CHAS', 'NOX', 'RM', 'AGE', 'DIS', 'RAD', 'TAX', 'PTRATIO', 'B', 'LSTAT', 'MEDV']\n",
        "df=pd.read_csv(data_url, delimiter=r\"\\s+\",names=columns_names)\n",
        "\n",
        "#2. SPLIT THE DATA SET\n",
        "\n",
        "from sklearn.model_selection import train_test_split\n",
        "#X = df[['CRIM', 'ZN', 'INDUS', 'CHAS', 'NOX', 'RM', 'AGE','DIS', 'RAD', 'TAX', 'PTRATIO', 'B', 'LSTAT']]\n",
        "X = df.drop('MEDV', axis=1)\n",
        "y = df['MEDV']\n",
        "\n",
        "X_train, X_test, y_train, y_test= train_test_split(X,y,test_size=0.2, random_state=42)\n",
        "\n",
        "#3. TRAIN MODELS\n",
        "#----------------------------------------------------------------------\n",
        "#Import regression models\n",
        "from sklearn.linear_model import LinearRegression, Ridge, Lasso\n",
        "lr=LinearRegression()\n",
        "ridge=Ridge(alpha=1.0)\n",
        "lasso=Lasso(alpha=0.1)\n",
        "\n",
        "#Fit each model on the training data.\n",
        "lr.fit(X_train, y_train)\n",
        "ridge.fit(X_train, y_train)\n",
        "lasso.fit(X_train, y_train)\n",
        "\n",
        "#4. Evaluate Models\n",
        "#----------------------------------------------------------------------\n",
        "#\tPredict on the test set:\n",
        "y_pred_lr = lr.predict(X_test)\n",
        "y_pred_ridge =ridge.predict(X_test)\n",
        "y_pred_lasso =lasso.predict(X_test)\n",
        "\n",
        "#\tCalculate metrics=================================================MSE,RMSE,R2 SCore,MAE:\n",
        "#\tCalculate Mean Squared Error (MSE)=====================================================:\n",
        "from sklearn.metrics import mean_squared_error\n",
        "#mse = mean_squared_error(y_test, y_pred)\n",
        "mse_lr=mean_squared_error(y_test, y_pred_lr)\n",
        "mse_ridge=mean_squared_error(y_test, y_pred_ridge)\n",
        "mse_lasso=mean_squared_error(y_test, y_pred_lasso)\n",
        "\n",
        "#Comparison of MSE scores for Linear Regression, Ridge Regression and Lasso Regression\n",
        "print(\"MSE scores of different regressions on Test Data Set:\")\n",
        "print(\"=======================================================\\n\")\n",
        "print(f\"MSE score of Linear Regression: {mse_lr}\")\n",
        "print(f\"MSE score of Ridge Regression: {mse_ridge}\")\n",
        "print(f\"MSE score of Lasso Regression: {mse_lasso}\")\n",
        "print(\"--------------------------------------------------------------------------------------\\n\\n\")\n",
        "\n",
        "#\tCalculate Root Mean Squared Error (RMSE)=================================================:\n",
        "#rmse_lr = np.sqrt(mse)\n",
        "#Comparison of RMSE scores for Linear Regression, Ridge Regression and Lasso Regression\n",
        "print(\"RMSE scores of different regressions on Test Data Set:\")\n",
        "print(\"=======================================================\\n\")\n",
        "print(f\"RMSE score of Linear Regression: {np.sqrt(mse_lr)}\")\n",
        "print(f\"RMSE score of Ridge Regression: {np.sqrt(mse_ridge)}\")\n",
        "print(f\"RMSE score of Lasso Regression: {np.sqrt(mse_lasso)}\")\n",
        "print(\"--------------------------------------------------------------------------------------\\n\\n\")\n",
        "\n",
        "#\tCalculate metrics=================================================R2:\n",
        "from sklearn.metrics import r2_score\n",
        "#r2 = r2_score(y_test, y_pred)\n",
        "r2_lr=r2_score(y_test, y_pred_lr)\n",
        "r2_ridge=r2_score(y_test, y_pred_ridge)\n",
        "r2_lasso=r2_score(y_test, y_pred_lasso)\n",
        "\n",
        "#Comparison of R2 scores for Linear Regression, Ridge Regression and Lasso Regression\n",
        "print(\"R2 scores of different regressions on Test Data Set:\")\n",
        "print(\"=======================================================\\n\")\n",
        "print(f\"R2 score of Linear Regression: {r2_lr}\")\n",
        "print(f\"R2 score of Ridge Regression: {r2_ridge}\")\n",
        "print(f\"R2 score of Lasso Regression: {r2_lasso}\")\n",
        "print(\"--------------------------------------------------------------------------------------\\n\\n\")\n",
        "\n",
        "#\tCalculate metrics=================================================Mean Absolute Error (MAE):\n",
        "from sklearn.metrics import mean_absolute_error\n",
        "#mae = mean_absolute_error(y_test, y_pred)\n",
        "mae_lr=mean_absolute_error(y_test, y_pred_lr)\n",
        "mae_ridge=mean_absolute_error(y_test, y_pred_ridge)\n",
        "mae_lasso=mean_absolute_error(y_test, y_pred_lasso)\n",
        "\n",
        "#Comparison of R2 scores for Linear Regression, Ridge Regression and Lasso Regression\n",
        "print(\"MAE scores of different regressions on Test Data Set:\")\n",
        "print(\"=======================================================\\n\")\n",
        "print(f\"MAE score of Linear Regression: {mae_lr}\")\n",
        "print(f\"MAE score of Ridge Regression: {mae_ridge}\")\n",
        "print(f\"MAE score of Lasso Regression: {mae_lasso}\")\n",
        "print(\"--------------------------------------------------------------------------------------\\n\\n\")"
      ]
    },
    {
      "cell_type": "code",
      "source": [
        "import pandas as pd\n",
        "\n",
        "data = {\n",
        "    'Model': ['Linear Regression', 'Ridge Regression', 'Lasso Regression'],\n",
        "    'MSE': [mse_lr, mse_ridge, mse_lasso],\n",
        "    'RMSE': [np.sqrt(mse_lr), np.sqrt(mse_ridge), np.sqrt(mse_lasso)],\n",
        "    'R²': [r2_lr, r2_ridge, r2_lasso],\n",
        "    'MAE': [mae_lr, mae_ridge, mae_lasso]\n",
        "}\n",
        "\n",
        "df = pd.DataFrame(data)\n",
        "\n",
        "df.set_index('Model', inplace=True)\n",
        "\n",
        "print(df)"
      ],
      "metadata": {
        "colab": {
          "base_uri": "https://localhost:8080/"
        },
        "id": "2lrvzuV1uPCI",
        "outputId": "be4b3bf0-6aa0-4cc5-98de-36011973be92"
      },
      "execution_count": null,
      "outputs": [
        {
          "output_type": "stream",
          "name": "stdout",
          "text": [
            "                         MSE      RMSE        R²       MAE\n",
            "Model                                                     \n",
            "Linear Regression  24.291119  4.928602  0.668759  3.189092\n",
            "Ridge Regression   24.477191  4.947443  0.666222  3.132947\n",
            "Lasso Regression   25.155594  5.015535  0.656971  3.145240\n"
          ]
        }
      ]
    },
    {
      "cell_type": "markdown",
      "source": [],
      "metadata": {
        "id": "t_zoRIIsuY6Y"
      }
    }
  ]
}